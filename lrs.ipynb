{
 "cells": [
  {
   "cell_type": "markdown",
   "metadata": {
    "_cell_guid": "b1076dfc-b9ad-4769-8c92-a6c4dae69d19",
    "_uuid": "8f2839f25d086af736a60e9eeb907d3b93b6e0e5",
    "execution": {
     "iopub.execute_input": "2021-06-21T12:32:55.394360Z",
     "iopub.status.busy": "2021-06-21T12:32:55.393741Z",
     "iopub.status.idle": "2021-06-21T12:32:55.415999Z",
     "shell.execute_reply": "2021-06-21T12:32:55.414664Z",
     "shell.execute_reply.started": "2021-06-21T12:32:55.394257Z"
    }
   },
   "source": [
    "# Laptop Recommender System"
   ]
  },
  {
   "cell_type": "markdown",
   "metadata": {},
   "source": [
    "### Libraries and Database Imports"
   ]
  },
  {
   "cell_type": "code",
   "execution_count": 1,
   "metadata": {},
   "outputs": [],
   "source": [
    "import spacy\n",
    "import numpy as np \n",
    "import pandas as pd \n",
    "from nltk.tokenize import word_tokenize\n",
    "from sklearn.metrics.pairwise import cosine_similarity\n",
    "from sklearn.feature_extraction.text import CountVectorizer"
   ]
  },
  {
   "cell_type": "code",
   "execution_count": 2,
   "metadata": {
    "execution": {
     "iopub.execute_input": "2021-06-21T12:36:31.348105Z",
     "iopub.status.busy": "2021-06-21T12:36:31.347717Z",
     "iopub.status.idle": "2021-06-21T12:36:32.003856Z",
     "shell.execute_reply": "2021-06-21T12:36:32.002744Z",
     "shell.execute_reply.started": "2021-06-21T12:36:31.348073Z"
    }
   },
   "outputs": [],
   "source": [
    "laptops = pd.read_csv('./Final_Dataframe.csv')\n"
   ]
  },
  {
   "cell_type": "markdown",
   "metadata": {},
   "source": [
    "### Database Inspection"
   ]
  },
  {
   "cell_type": "code",
   "execution_count": 3,
   "metadata": {
    "execution": {
     "iopub.execute_input": "2021-06-21T12:36:33.757778Z",
     "iopub.status.busy": "2021-06-21T12:36:33.757346Z",
     "iopub.status.idle": "2021-06-21T12:36:33.781729Z",
     "shell.execute_reply": "2021-06-21T12:36:33.780738Z",
     "shell.execute_reply.started": "2021-06-21T12:36:33.757743Z"
    }
   },
   "outputs": [
    {
     "data": {
      "text/html": [
       "<div>\n",
       "<style scoped>\n",
       "    .dataframe tbody tr th:only-of-type {\n",
       "        vertical-align: middle;\n",
       "    }\n",
       "\n",
       "    .dataframe tbody tr th {\n",
       "        vertical-align: top;\n",
       "    }\n",
       "\n",
       "    .dataframe thead th {\n",
       "        text-align: right;\n",
       "    }\n",
       "</style>\n",
       "<table border=\"1\" class=\"dataframe\">\n",
       "  <thead>\n",
       "    <tr style=\"text-align: right;\">\n",
       "      <th></th>\n",
       "      <th>brand</th>\n",
       "      <th>laptop_name</th>\n",
       "      <th>display_size</th>\n",
       "      <th>processor_type</th>\n",
       "      <th>graphics_card</th>\n",
       "      <th>disk_space</th>\n",
       "      <th>discount_price</th>\n",
       "      <th>old_price</th>\n",
       "      <th>ratings_5max</th>\n",
       "    </tr>\n",
       "  </thead>\n",
       "  <tbody>\n",
       "    <tr>\n",
       "      <th>0</th>\n",
       "      <td>HP</td>\n",
       "      <td>Notebook 14-df0008nx</td>\n",
       "      <td>14.0</td>\n",
       "      <td>Intel Celeron N4000</td>\n",
       "      <td>Intel HD Graphics 600</td>\n",
       "      <td>64 GB (eMMC)</td>\n",
       "      <td>1259.0</td>\n",
       "      <td>1259.0</td>\n",
       "      <td>0 / 5</td>\n",
       "    </tr>\n",
       "    <tr>\n",
       "      <th>1</th>\n",
       "      <td>Lenovo</td>\n",
       "      <td>IdeaPad 330S-14IKB</td>\n",
       "      <td>14.0</td>\n",
       "      <td>Intel Core i5-8250U</td>\n",
       "      <td>Intel UHD Graphics 620</td>\n",
       "      <td>1 TB HDD</td>\n",
       "      <td>1849.0</td>\n",
       "      <td>2099.0</td>\n",
       "      <td>3.3 / 5</td>\n",
       "    </tr>\n",
       "    <tr>\n",
       "      <th>2</th>\n",
       "      <td>Huawei</td>\n",
       "      <td>MateBook D Volta</td>\n",
       "      <td>14.0</td>\n",
       "      <td>Intel Core i5-8250U</td>\n",
       "      <td>NVIDIA GeForce MX150 (2 GB)</td>\n",
       "      <td>256 GB SSD</td>\n",
       "      <td>2999.0</td>\n",
       "      <td>3799.0</td>\n",
       "      <td>0 / 5</td>\n",
       "    </tr>\n",
       "    <tr>\n",
       "      <th>3</th>\n",
       "      <td>Dell</td>\n",
       "      <td>Inspiron 15 3567</td>\n",
       "      <td>15.6</td>\n",
       "      <td>Intel Core i3-7020U</td>\n",
       "      <td>Intel HD Graphics 620</td>\n",
       "      <td>1 TB HDD</td>\n",
       "      <td>1849.0</td>\n",
       "      <td>1849.0</td>\n",
       "      <td>0 / 5</td>\n",
       "    </tr>\n",
       "    <tr>\n",
       "      <th>4</th>\n",
       "      <td>Asus</td>\n",
       "      <td>VivoBook 15 X510UR</td>\n",
       "      <td>15.6</td>\n",
       "      <td>Intel Core i7-8550U</td>\n",
       "      <td>NVIDIA GeForce 930MX (2 GB)</td>\n",
       "      <td>1 TB HDD</td>\n",
       "      <td>2499.0</td>\n",
       "      <td>3149.0</td>\n",
       "      <td>0 / 5</td>\n",
       "    </tr>\n",
       "  </tbody>\n",
       "</table>\n",
       "</div>"
      ],
      "text/plain": [
       "    brand           laptop_name  display_size        processor_type  \\\n",
       "0      HP  Notebook 14-df0008nx          14.0   Intel Celeron N4000   \n",
       "1  Lenovo    IdeaPad 330S-14IKB          14.0   Intel Core i5-8250U   \n",
       "2  Huawei      MateBook D Volta          14.0   Intel Core i5-8250U   \n",
       "3    Dell      Inspiron 15 3567          15.6   Intel Core i3-7020U   \n",
       "4    Asus    VivoBook 15 X510UR          15.6   Intel Core i7-8550U   \n",
       "\n",
       "                  graphics_card     disk_space  discount_price  old_price  \\\n",
       "0         Intel HD Graphics 600   64 GB (eMMC)          1259.0     1259.0   \n",
       "1        Intel UHD Graphics 620       1 TB HDD          1849.0     2099.0   \n",
       "2   NVIDIA GeForce MX150 (2 GB)     256 GB SSD          2999.0     3799.0   \n",
       "3         Intel HD Graphics 620       1 TB HDD          1849.0     1849.0   \n",
       "4   NVIDIA GeForce 930MX (2 GB)       1 TB HDD          2499.0     3149.0   \n",
       "\n",
       "  ratings_5max  \n",
       "0        0 / 5  \n",
       "1      3.3 / 5  \n",
       "2        0 / 5  \n",
       "3        0 / 5  \n",
       "4        0 / 5  "
      ]
     },
     "execution_count": 3,
     "metadata": {},
     "output_type": "execute_result"
    }
   ],
   "source": [
    "laptops.head()"
   ]
  },
  {
   "cell_type": "code",
   "execution_count": 4,
   "metadata": {},
   "outputs": [
    {
     "name": "stdout",
     "output_type": "stream",
     "text": [
      "<class 'pandas.core.frame.DataFrame'>\n",
      "RangeIndex: 205 entries, 0 to 204\n",
      "Data columns (total 9 columns):\n",
      " #   Column          Non-Null Count  Dtype  \n",
      "---  ------          --------------  -----  \n",
      " 0   brand           205 non-null    object \n",
      " 1   laptop_name     204 non-null    object \n",
      " 2   display_size    205 non-null    float64\n",
      " 3   processor_type  205 non-null    object \n",
      " 4   graphics_card   205 non-null    object \n",
      " 5   disk_space      205 non-null    object \n",
      " 6   discount_price  205 non-null    float64\n",
      " 7   old_price       205 non-null    float64\n",
      " 8   ratings_5max    205 non-null    object \n",
      "dtypes: float64(3), object(6)\n",
      "memory usage: 14.5+ KB\n"
     ]
    }
   ],
   "source": [
    "laptops.info()"
   ]
  },
  {
   "cell_type": "code",
   "execution_count": 5,
   "metadata": {
    "execution": {
     "iopub.execute_input": "2021-06-21T12:33:06.308311Z",
     "iopub.status.busy": "2021-06-21T12:33:06.307921Z",
     "iopub.status.idle": "2021-06-21T12:33:06.316052Z",
     "shell.execute_reply": "2021-06-21T12:33:06.314903Z",
     "shell.execute_reply.started": "2021-06-21T12:33:06.308279Z"
    }
   },
   "outputs": [
    {
     "data": {
      "text/plain": [
       "(205, 9)"
      ]
     },
     "execution_count": 5,
     "metadata": {},
     "output_type": "execute_result"
    }
   ],
   "source": [
    "laptops.shape"
   ]
  },
  {
   "cell_type": "code",
   "execution_count": 6,
   "metadata": {},
   "outputs": [
    {
     "data": {
      "text/plain": [
       "array([' Intel Celeron N4000', ' Intel Core i5-8250U',\n",
       "       ' Intel Core i3-7020U', ' Intel Core i7-8550U',\n",
       "       ' Intel Core i5 Dual Core', ' AMD A9-9425', ' Intel Core i7-8565U',\n",
       "       ' Intel Core i7 6 Core', ' Intel Core i5 Quad Core',\n",
       "       ' Intel Core i5-8265U', ' Intel Core M3', ' Intel Core i7-8750H',\n",
       "       ' Intel Core i3-8145U', ' Intel Celeron 4205U',\n",
       "       ' Intel Celeron N3060', ' Intel Celeron N3350',\n",
       "       ' Intel Core i5-7200U', ' Intel Core i9', ' Intel Core i7-7820HK',\n",
       "       ' Intel Core i7-7700HQ', ' Intel Core i7-6700HQ',\n",
       "       ' Intel Core i7 Quad Core', ' Intel Core i7-7500U',\n",
       "       ' Intel Core i3-5005U', ' Intel Core i3-6006U',\n",
       "       ' Intel Core i3-8130U'], dtype=object)"
      ]
     },
     "execution_count": 6,
     "metadata": {},
     "output_type": "execute_result"
    }
   ],
   "source": [
    "laptops.processor_type.unique()"
   ]
  },
  {
   "cell_type": "code",
   "execution_count": 7,
   "metadata": {
    "execution": {
     "iopub.execute_input": "2021-06-21T12:33:08.787791Z",
     "iopub.status.busy": "2021-06-21T12:33:08.787389Z",
     "iopub.status.idle": "2021-06-21T12:33:08.800864Z",
     "shell.execute_reply": "2021-06-21T12:33:08.799834Z",
     "shell.execute_reply.started": "2021-06-21T12:33:08.787758Z"
    }
   },
   "outputs": [],
   "source": [
    "df = laptops.copy()"
   ]
  },
  {
   "cell_type": "code",
   "execution_count": null,
   "metadata": {
    "execution": {
     "iopub.execute_input": "2021-06-21T12:36:38.687005Z",
     "iopub.status.busy": "2021-06-21T12:36:38.686521Z",
     "iopub.status.idle": "2021-06-21T12:36:38.713343Z",
     "shell.execute_reply": "2021-06-21T12:36:38.711939Z",
     "shell.execute_reply.started": "2021-06-21T12:36:38.686963Z"
    }
   },
   "outputs": [],
   "source": []
  },
  {
   "cell_type": "markdown",
   "metadata": {
    "execution": {
     "iopub.execute_input": "2021-06-19T12:48:23.470754Z",
     "iopub.status.busy": "2021-06-19T12:48:23.470187Z",
     "iopub.status.idle": "2021-06-19T12:48:23.5041Z",
     "shell.execute_reply": "2021-06-19T12:48:23.503327Z",
     "shell.execute_reply.started": "2021-06-19T12:48:23.470724Z"
    }
   },
   "source": [
    "### Data Preprocessing"
   ]
  },
  {
   "cell_type": "code",
   "execution_count": 8,
   "metadata": {
    "execution": {
     "iopub.execute_input": "2021-06-21T12:36:41.393733Z",
     "iopub.status.busy": "2021-06-21T12:36:41.393326Z",
     "iopub.status.idle": "2021-06-21T12:36:41.406883Z",
     "shell.execute_reply": "2021-06-21T12:36:41.405822Z",
     "shell.execute_reply.started": "2021-06-21T12:36:41.393699Z"
    }
   },
   "outputs": [],
   "source": [
    "def token_convertor(x):\n",
    "    restricted = ['(', ')']\n",
    "    tokens = word_tokenize(x)\n",
    "    \n",
    "    return [i for i in tokens if i not in restricted]"
   ]
  },
  {
   "cell_type": "code",
   "execution_count": 9,
   "metadata": {
    "execution": {
     "iopub.execute_input": "2021-06-21T12:33:39.517061Z",
     "iopub.status.busy": "2021-06-21T12:33:39.516481Z",
     "iopub.status.idle": "2021-06-21T12:33:39.532499Z",
     "shell.execute_reply": "2021-06-21T12:33:39.531584Z",
     "shell.execute_reply.started": "2021-06-21T12:33:39.517012Z"
    }
   },
   "outputs": [],
   "source": [
    "df['processor_type'] = df['processor_type'].apply(token_convertor)\n",
    "df['graphics_card']  = df['graphics_card'].apply(token_convertor)\n",
    "df['disk_space']     = df['disk_space'].apply(token_convertor)\n",
    "df['brand']          = df['brand'].apply(token_convertor)\n",
    "\n",
    "df['ratings_5max']   = df['ratings_5max'].apply(lambda x: float(x.split('/')[0]))\n",
    "df['display_size']   = df['display_size'].apply(lambda x: [str(x)])\n",
    "df['discount_price'] = df['discount_price'].apply(lambda x: [str(x)])\n",
    "df['old_price']      = df['old_price'].apply(lambda x: [str(x)])"
   ]
  },
  {
   "cell_type": "code",
   "execution_count": 10,
   "metadata": {
    "execution": {
     "iopub.execute_input": "2021-06-21T12:34:19.382856Z",
     "iopub.status.busy": "2021-06-21T12:34:19.382331Z",
     "iopub.status.idle": "2021-06-21T12:34:19.387416Z",
     "shell.execute_reply": "2021-06-21T12:34:19.386451Z",
     "shell.execute_reply.started": "2021-06-21T12:34:19.382822Z"
    }
   },
   "outputs": [],
   "source": [
    "df['tags'] = df['brand']+df['display_size'] + df['processor_type']+df['graphics_card']+df['disk_space']+df['discount_price']+df['old_price']"
   ]
  },
  {
   "cell_type": "code",
   "execution_count": 11,
   "metadata": {
    "execution": {
     "iopub.execute_input": "2021-06-21T12:36:47.540453Z",
     "iopub.status.busy": "2021-06-21T12:36:47.539904Z",
     "iopub.status.idle": "2021-06-21T12:36:47.545014Z",
     "shell.execute_reply": "2021-06-21T12:36:47.544243Z",
     "shell.execute_reply.started": "2021-06-21T12:36:47.540418Z"
    }
   },
   "outputs": [
    {
     "data": {
      "text/html": [
       "<div>\n",
       "<style scoped>\n",
       "    .dataframe tbody tr th:only-of-type {\n",
       "        vertical-align: middle;\n",
       "    }\n",
       "\n",
       "    .dataframe tbody tr th {\n",
       "        vertical-align: top;\n",
       "    }\n",
       "\n",
       "    .dataframe thead th {\n",
       "        text-align: right;\n",
       "    }\n",
       "</style>\n",
       "<table border=\"1\" class=\"dataframe\">\n",
       "  <thead>\n",
       "    <tr style=\"text-align: right;\">\n",
       "      <th></th>\n",
       "      <th>brand</th>\n",
       "      <th>laptop_name</th>\n",
       "      <th>display_size</th>\n",
       "      <th>processor_type</th>\n",
       "      <th>graphics_card</th>\n",
       "      <th>disk_space</th>\n",
       "      <th>discount_price</th>\n",
       "      <th>old_price</th>\n",
       "      <th>ratings_5max</th>\n",
       "      <th>tags</th>\n",
       "    </tr>\n",
       "  </thead>\n",
       "  <tbody>\n",
       "    <tr>\n",
       "      <th>0</th>\n",
       "      <td>[HP]</td>\n",
       "      <td>Notebook 14-df0008nx</td>\n",
       "      <td>[14.0]</td>\n",
       "      <td>[Intel, Celeron, N4000]</td>\n",
       "      <td>[Intel, HD, Graphics, 600]</td>\n",
       "      <td>[64, GB, eMMC]</td>\n",
       "      <td>[1259.0]</td>\n",
       "      <td>[1259.0]</td>\n",
       "      <td>0.0</td>\n",
       "      <td>[HP, 14.0, Intel, Celeron, N4000, Intel, HD, G...</td>\n",
       "    </tr>\n",
       "    <tr>\n",
       "      <th>1</th>\n",
       "      <td>[Lenovo]</td>\n",
       "      <td>IdeaPad 330S-14IKB</td>\n",
       "      <td>[14.0]</td>\n",
       "      <td>[Intel, Core, i5-8250U]</td>\n",
       "      <td>[Intel, UHD, Graphics, 620]</td>\n",
       "      <td>[1, TB, HDD]</td>\n",
       "      <td>[1849.0]</td>\n",
       "      <td>[2099.0]</td>\n",
       "      <td>3.3</td>\n",
       "      <td>[Lenovo, 14.0, Intel, Core, i5-8250U, Intel, U...</td>\n",
       "    </tr>\n",
       "    <tr>\n",
       "      <th>2</th>\n",
       "      <td>[Huawei]</td>\n",
       "      <td>MateBook D Volta</td>\n",
       "      <td>[14.0]</td>\n",
       "      <td>[Intel, Core, i5-8250U]</td>\n",
       "      <td>[NVIDIA, GeForce, MX150, 2, GB]</td>\n",
       "      <td>[256, GB, SSD]</td>\n",
       "      <td>[2999.0]</td>\n",
       "      <td>[3799.0]</td>\n",
       "      <td>0.0</td>\n",
       "      <td>[Huawei, 14.0, Intel, Core, i5-8250U, NVIDIA, ...</td>\n",
       "    </tr>\n",
       "    <tr>\n",
       "      <th>3</th>\n",
       "      <td>[Dell]</td>\n",
       "      <td>Inspiron 15 3567</td>\n",
       "      <td>[15.6]</td>\n",
       "      <td>[Intel, Core, i3-7020U]</td>\n",
       "      <td>[Intel, HD, Graphics, 620]</td>\n",
       "      <td>[1, TB, HDD]</td>\n",
       "      <td>[1849.0]</td>\n",
       "      <td>[1849.0]</td>\n",
       "      <td>0.0</td>\n",
       "      <td>[Dell, 15.6, Intel, Core, i3-7020U, Intel, HD,...</td>\n",
       "    </tr>\n",
       "    <tr>\n",
       "      <th>4</th>\n",
       "      <td>[Asus]</td>\n",
       "      <td>VivoBook 15 X510UR</td>\n",
       "      <td>[15.6]</td>\n",
       "      <td>[Intel, Core, i7-8550U]</td>\n",
       "      <td>[NVIDIA, GeForce, 930MX, 2, GB]</td>\n",
       "      <td>[1, TB, HDD]</td>\n",
       "      <td>[2499.0]</td>\n",
       "      <td>[3149.0]</td>\n",
       "      <td>0.0</td>\n",
       "      <td>[Asus, 15.6, Intel, Core, i7-8550U, NVIDIA, Ge...</td>\n",
       "    </tr>\n",
       "  </tbody>\n",
       "</table>\n",
       "</div>"
      ],
      "text/plain": [
       "      brand           laptop_name display_size           processor_type  \\\n",
       "0      [HP]  Notebook 14-df0008nx       [14.0]  [Intel, Celeron, N4000]   \n",
       "1  [Lenovo]    IdeaPad 330S-14IKB       [14.0]  [Intel, Core, i5-8250U]   \n",
       "2  [Huawei]      MateBook D Volta       [14.0]  [Intel, Core, i5-8250U]   \n",
       "3    [Dell]      Inspiron 15 3567       [15.6]  [Intel, Core, i3-7020U]   \n",
       "4    [Asus]    VivoBook 15 X510UR       [15.6]  [Intel, Core, i7-8550U]   \n",
       "\n",
       "                     graphics_card      disk_space discount_price old_price  \\\n",
       "0       [Intel, HD, Graphics, 600]  [64, GB, eMMC]       [1259.0]  [1259.0]   \n",
       "1      [Intel, UHD, Graphics, 620]    [1, TB, HDD]       [1849.0]  [2099.0]   \n",
       "2  [NVIDIA, GeForce, MX150, 2, GB]  [256, GB, SSD]       [2999.0]  [3799.0]   \n",
       "3       [Intel, HD, Graphics, 620]    [1, TB, HDD]       [1849.0]  [1849.0]   \n",
       "4  [NVIDIA, GeForce, 930MX, 2, GB]    [1, TB, HDD]       [2499.0]  [3149.0]   \n",
       "\n",
       "   ratings_5max                                               tags  \n",
       "0           0.0  [HP, 14.0, Intel, Celeron, N4000, Intel, HD, G...  \n",
       "1           3.3  [Lenovo, 14.0, Intel, Core, i5-8250U, Intel, U...  \n",
       "2           0.0  [Huawei, 14.0, Intel, Core, i5-8250U, NVIDIA, ...  \n",
       "3           0.0  [Dell, 15.6, Intel, Core, i3-7020U, Intel, HD,...  \n",
       "4           0.0  [Asus, 15.6, Intel, Core, i7-8550U, NVIDIA, Ge...  "
      ]
     },
     "execution_count": 11,
     "metadata": {},
     "output_type": "execute_result"
    }
   ],
   "source": [
    "df.head()"
   ]
  },
  {
   "cell_type": "code",
   "execution_count": 12,
   "metadata": {
    "execution": {
     "iopub.execute_input": "2021-06-21T12:36:50.059538Z",
     "iopub.status.busy": "2021-06-21T12:36:50.059006Z",
     "iopub.status.idle": "2021-06-21T12:36:50.073095Z",
     "shell.execute_reply": "2021-06-21T12:36:50.071577Z",
     "shell.execute_reply.started": "2021-06-21T12:36:50.059504Z"
    }
   },
   "outputs": [],
   "source": [
    "df.drop(['brand', 'display_size', 'processor_type',\n",
    "       'graphics_card', 'disk_space', 'discount_price', 'old_price', 'ratings_5max'\n",
    "        ],axis=1, inplace=True)"
   ]
  },
  {
   "cell_type": "code",
   "execution_count": 13,
   "metadata": {
    "execution": {
     "iopub.execute_input": "2021-06-21T12:36:52.344121Z",
     "iopub.status.busy": "2021-06-21T12:36:52.343645Z",
     "iopub.status.idle": "2021-06-21T12:36:52.523910Z",
     "shell.execute_reply": "2021-06-21T12:36:52.522805Z",
     "shell.execute_reply.started": "2021-06-21T12:36:52.344082Z"
    }
   },
   "outputs": [
    {
     "data": {
      "text/plain": [
       "Index(['laptop_name', 'tags'], dtype='object')"
      ]
     },
     "execution_count": 13,
     "metadata": {},
     "output_type": "execute_result"
    }
   ],
   "source": [
    "df.columns"
   ]
  },
  {
   "cell_type": "code",
   "execution_count": 14,
   "metadata": {
    "execution": {
     "iopub.execute_input": "2021-06-21T12:36:55.304439Z",
     "iopub.status.busy": "2021-06-21T12:36:55.304070Z",
     "iopub.status.idle": "2021-06-21T12:36:55.738525Z",
     "shell.execute_reply": "2021-06-21T12:36:55.737123Z",
     "shell.execute_reply.started": "2021-06-21T12:36:55.304408Z"
    }
   },
   "outputs": [
    {
     "data": {
      "text/html": [
       "<div>\n",
       "<style scoped>\n",
       "    .dataframe tbody tr th:only-of-type {\n",
       "        vertical-align: middle;\n",
       "    }\n",
       "\n",
       "    .dataframe tbody tr th {\n",
       "        vertical-align: top;\n",
       "    }\n",
       "\n",
       "    .dataframe thead th {\n",
       "        text-align: right;\n",
       "    }\n",
       "</style>\n",
       "<table border=\"1\" class=\"dataframe\">\n",
       "  <thead>\n",
       "    <tr style=\"text-align: right;\">\n",
       "      <th></th>\n",
       "      <th>laptop_name</th>\n",
       "      <th>tags</th>\n",
       "    </tr>\n",
       "  </thead>\n",
       "  <tbody>\n",
       "    <tr>\n",
       "      <th>0</th>\n",
       "      <td>Notebook 14-df0008nx</td>\n",
       "      <td>[HP, 14.0, Intel, Celeron, N4000, Intel, HD, G...</td>\n",
       "    </tr>\n",
       "    <tr>\n",
       "      <th>1</th>\n",
       "      <td>IdeaPad 330S-14IKB</td>\n",
       "      <td>[Lenovo, 14.0, Intel, Core, i5-8250U, Intel, U...</td>\n",
       "    </tr>\n",
       "    <tr>\n",
       "      <th>2</th>\n",
       "      <td>MateBook D Volta</td>\n",
       "      <td>[Huawei, 14.0, Intel, Core, i5-8250U, NVIDIA, ...</td>\n",
       "    </tr>\n",
       "    <tr>\n",
       "      <th>3</th>\n",
       "      <td>Inspiron 15 3567</td>\n",
       "      <td>[Dell, 15.6, Intel, Core, i3-7020U, Intel, HD,...</td>\n",
       "    </tr>\n",
       "    <tr>\n",
       "      <th>4</th>\n",
       "      <td>VivoBook 15 X510UR</td>\n",
       "      <td>[Asus, 15.6, Intel, Core, i7-8550U, NVIDIA, Ge...</td>\n",
       "    </tr>\n",
       "  </tbody>\n",
       "</table>\n",
       "</div>"
      ],
      "text/plain": [
       "            laptop_name                                               tags\n",
       "0  Notebook 14-df0008nx  [HP, 14.0, Intel, Celeron, N4000, Intel, HD, G...\n",
       "1    IdeaPad 330S-14IKB  [Lenovo, 14.0, Intel, Core, i5-8250U, Intel, U...\n",
       "2      MateBook D Volta  [Huawei, 14.0, Intel, Core, i5-8250U, NVIDIA, ...\n",
       "3      Inspiron 15 3567  [Dell, 15.6, Intel, Core, i3-7020U, Intel, HD,...\n",
       "4    VivoBook 15 X510UR  [Asus, 15.6, Intel, Core, i7-8550U, NVIDIA, Ge..."
      ]
     },
     "execution_count": 14,
     "metadata": {},
     "output_type": "execute_result"
    }
   ],
   "source": [
    "df.head()"
   ]
  },
  {
   "cell_type": "code",
   "execution_count": 15,
   "metadata": {
    "execution": {
     "iopub.execute_input": "2021-06-21T12:38:00.131473Z",
     "iopub.status.busy": "2021-06-21T12:38:00.130879Z",
     "iopub.status.idle": "2021-06-21T12:38:00.160438Z",
     "shell.execute_reply": "2021-06-21T12:38:00.159476Z",
     "shell.execute_reply.started": "2021-06-21T12:38:00.131439Z"
    }
   },
   "outputs": [
    {
     "data": {
      "text/html": [
       "<div>\n",
       "<style scoped>\n",
       "    .dataframe tbody tr th:only-of-type {\n",
       "        vertical-align: middle;\n",
       "    }\n",
       "\n",
       "    .dataframe tbody tr th {\n",
       "        vertical-align: top;\n",
       "    }\n",
       "\n",
       "    .dataframe thead th {\n",
       "        text-align: right;\n",
       "    }\n",
       "</style>\n",
       "<table border=\"1\" class=\"dataframe\">\n",
       "  <thead>\n",
       "    <tr style=\"text-align: right;\">\n",
       "      <th></th>\n",
       "      <th>laptop_name</th>\n",
       "      <th>tags</th>\n",
       "      <th>sentence</th>\n",
       "    </tr>\n",
       "  </thead>\n",
       "  <tbody>\n",
       "    <tr>\n",
       "      <th>0</th>\n",
       "      <td>Notebook 14-df0008nx</td>\n",
       "      <td>[HP, 14.0, Intel, Celeron, N4000, Intel, HD, G...</td>\n",
       "      <td>HP 14.0 Intel Celeron N4000 Intel HD Graphics ...</td>\n",
       "    </tr>\n",
       "    <tr>\n",
       "      <th>1</th>\n",
       "      <td>IdeaPad 330S-14IKB</td>\n",
       "      <td>[Lenovo, 14.0, Intel, Core, i5-8250U, Intel, U...</td>\n",
       "      <td>Lenovo 14.0 Intel Core i5-8250U Intel UHD Grap...</td>\n",
       "    </tr>\n",
       "    <tr>\n",
       "      <th>2</th>\n",
       "      <td>MateBook D Volta</td>\n",
       "      <td>[Huawei, 14.0, Intel, Core, i5-8250U, NVIDIA, ...</td>\n",
       "      <td>Huawei 14.0 Intel Core i5-8250U NVIDIA GeForce...</td>\n",
       "    </tr>\n",
       "    <tr>\n",
       "      <th>3</th>\n",
       "      <td>Inspiron 15 3567</td>\n",
       "      <td>[Dell, 15.6, Intel, Core, i3-7020U, Intel, HD,...</td>\n",
       "      <td>Dell 15.6 Intel Core i3-7020U Intel HD Graphic...</td>\n",
       "    </tr>\n",
       "    <tr>\n",
       "      <th>4</th>\n",
       "      <td>VivoBook 15 X510UR</td>\n",
       "      <td>[Asus, 15.6, Intel, Core, i7-8550U, NVIDIA, Ge...</td>\n",
       "      <td>Asus 15.6 Intel Core i7-8550U NVIDIA GeForce 9...</td>\n",
       "    </tr>\n",
       "  </tbody>\n",
       "</table>\n",
       "</div>"
      ],
      "text/plain": [
       "            laptop_name                                               tags  \\\n",
       "0  Notebook 14-df0008nx  [HP, 14.0, Intel, Celeron, N4000, Intel, HD, G...   \n",
       "1    IdeaPad 330S-14IKB  [Lenovo, 14.0, Intel, Core, i5-8250U, Intel, U...   \n",
       "2      MateBook D Volta  [Huawei, 14.0, Intel, Core, i5-8250U, NVIDIA, ...   \n",
       "3      Inspiron 15 3567  [Dell, 15.6, Intel, Core, i3-7020U, Intel, HD,...   \n",
       "4    VivoBook 15 X510UR  [Asus, 15.6, Intel, Core, i7-8550U, NVIDIA, Ge...   \n",
       "\n",
       "                                            sentence  \n",
       "0  HP 14.0 Intel Celeron N4000 Intel HD Graphics ...  \n",
       "1  Lenovo 14.0 Intel Core i5-8250U Intel UHD Grap...  \n",
       "2  Huawei 14.0 Intel Core i5-8250U NVIDIA GeForce...  \n",
       "3  Dell 15.6 Intel Core i3-7020U Intel HD Graphic...  \n",
       "4  Asus 15.6 Intel Core i7-8550U NVIDIA GeForce 9...  "
      ]
     },
     "execution_count": 15,
     "metadata": {},
     "output_type": "execute_result"
    }
   ],
   "source": [
    "df['sentence'] = df['tags'].apply(lambda x: \" \".join(x))\n",
    "df.head()"
   ]
  },
  {
   "cell_type": "markdown",
   "metadata": {},
   "source": [
    "### Recommendation System Implementation"
   ]
  },
  {
   "cell_type": "code",
   "execution_count": 16,
   "metadata": {},
   "outputs": [],
   "source": [
    "\n",
    "\n",
    "def extract_best_indices(m, topk, mask=None):\n",
    "\n",
    "    # return the sum on all tokens of cosinus for each sentence\n",
    "    if len(m.shape) > 1:\n",
    "        cos_sim = np.mean(m, axis=0) \n",
    "    else: \n",
    "        cos_sim = m\n",
    "    index = np.argsort(cos_sim)[::-1] # from highest idx to smallest score \n",
    "    if mask is not None:\n",
    "        assert mask.shape == m.shape\n",
    "        mask = mask[index]\n",
    "    else:\n",
    "        mask = np.ones(len(cos_sim))\n",
    "    mask = np.logical_or(cos_sim[index] != 0, mask) #eliminate 0 cosine distance\n",
    "    best_index = index[mask][:topk]  \n",
    "    return best_index\n"
   ]
  },
  {
   "cell_type": "code",
   "execution_count": 17,
   "metadata": {},
   "outputs": [],
   "source": [
    "\n",
    "def predict_spacy(model, query_sentence, embed_mat, topk=3):\n",
    "\n",
    "    query_embed = model(query_sentence)\n",
    "    mat = np.array([query_embed.similarity(line) for line in embed_mat])\n",
    "    # keep if vector has a norm\n",
    "    mat_mask = np.array(\n",
    "        [True if line.vector_norm else False for line in embed_mat])\n",
    "    best_index = extract_best_indices(mat, topk=topk, mask=mat_mask)\n",
    "    return best_index\n",
    "\n"
   ]
  },
  {
   "cell_type": "code",
   "execution_count": 18,
   "metadata": {},
   "outputs": [],
   "source": [
    "#Load pre-trained model\n",
    "nlp = spacy.load(\"en_core_web_lg\") \n",
    "\n",
    "# Apply the model to the sentences\n",
    "df['spacy_sentence'] = df['sentence'].apply(lambda x: nlp(x)) \n",
    "\n",
    "\n"
   ]
  },
  {
   "cell_type": "code",
   "execution_count": 19,
   "metadata": {},
   "outputs": [
    {
     "data": {
      "text/html": [
       "<div>\n",
       "<style scoped>\n",
       "    .dataframe tbody tr th:only-of-type {\n",
       "        vertical-align: middle;\n",
       "    }\n",
       "\n",
       "    .dataframe tbody tr th {\n",
       "        vertical-align: top;\n",
       "    }\n",
       "\n",
       "    .dataframe thead th {\n",
       "        text-align: right;\n",
       "    }\n",
       "</style>\n",
       "<table border=\"1\" class=\"dataframe\">\n",
       "  <thead>\n",
       "    <tr style=\"text-align: right;\">\n",
       "      <th></th>\n",
       "      <th>laptop_name</th>\n",
       "      <th>tags</th>\n",
       "      <th>sentence</th>\n",
       "      <th>spacy_sentence</th>\n",
       "    </tr>\n",
       "  </thead>\n",
       "  <tbody>\n",
       "    <tr>\n",
       "      <th>0</th>\n",
       "      <td>Notebook 14-df0008nx</td>\n",
       "      <td>[HP, 14.0, Intel, Celeron, N4000, Intel, HD, G...</td>\n",
       "      <td>HP 14.0 Intel Celeron N4000 Intel HD Graphics ...</td>\n",
       "      <td>(HP, 14.0, Intel, Celeron, N4000, Intel, HD, G...</td>\n",
       "    </tr>\n",
       "    <tr>\n",
       "      <th>1</th>\n",
       "      <td>IdeaPad 330S-14IKB</td>\n",
       "      <td>[Lenovo, 14.0, Intel, Core, i5-8250U, Intel, U...</td>\n",
       "      <td>Lenovo 14.0 Intel Core i5-8250U Intel UHD Grap...</td>\n",
       "      <td>(Lenovo, 14.0, Intel, Core, i5, -, 8250U, Inte...</td>\n",
       "    </tr>\n",
       "    <tr>\n",
       "      <th>2</th>\n",
       "      <td>MateBook D Volta</td>\n",
       "      <td>[Huawei, 14.0, Intel, Core, i5-8250U, NVIDIA, ...</td>\n",
       "      <td>Huawei 14.0 Intel Core i5-8250U NVIDIA GeForce...</td>\n",
       "      <td>(Huawei, 14.0, Intel, Core, i5, -, 8250U, NVID...</td>\n",
       "    </tr>\n",
       "    <tr>\n",
       "      <th>3</th>\n",
       "      <td>Inspiron 15 3567</td>\n",
       "      <td>[Dell, 15.6, Intel, Core, i3-7020U, Intel, HD,...</td>\n",
       "      <td>Dell 15.6 Intel Core i3-7020U Intel HD Graphic...</td>\n",
       "      <td>(Dell, 15.6, Intel, Core, i3, -, 7020U, Intel,...</td>\n",
       "    </tr>\n",
       "    <tr>\n",
       "      <th>4</th>\n",
       "      <td>VivoBook 15 X510UR</td>\n",
       "      <td>[Asus, 15.6, Intel, Core, i7-8550U, NVIDIA, Ge...</td>\n",
       "      <td>Asus 15.6 Intel Core i7-8550U NVIDIA GeForce 9...</td>\n",
       "      <td>(Asus, 15.6, Intel, Core, i7, -, 8550U, NVIDIA...</td>\n",
       "    </tr>\n",
       "  </tbody>\n",
       "</table>\n",
       "</div>"
      ],
      "text/plain": [
       "            laptop_name                                               tags  \\\n",
       "0  Notebook 14-df0008nx  [HP, 14.0, Intel, Celeron, N4000, Intel, HD, G...   \n",
       "1    IdeaPad 330S-14IKB  [Lenovo, 14.0, Intel, Core, i5-8250U, Intel, U...   \n",
       "2      MateBook D Volta  [Huawei, 14.0, Intel, Core, i5-8250U, NVIDIA, ...   \n",
       "3      Inspiron 15 3567  [Dell, 15.6, Intel, Core, i3-7020U, Intel, HD,...   \n",
       "4    VivoBook 15 X510UR  [Asus, 15.6, Intel, Core, i7-8550U, NVIDIA, Ge...   \n",
       "\n",
       "                                            sentence  \\\n",
       "0  HP 14.0 Intel Celeron N4000 Intel HD Graphics ...   \n",
       "1  Lenovo 14.0 Intel Core i5-8250U Intel UHD Grap...   \n",
       "2  Huawei 14.0 Intel Core i5-8250U NVIDIA GeForce...   \n",
       "3  Dell 15.6 Intel Core i3-7020U Intel HD Graphic...   \n",
       "4  Asus 15.6 Intel Core i7-8550U NVIDIA GeForce 9...   \n",
       "\n",
       "                                      spacy_sentence  \n",
       "0  (HP, 14.0, Intel, Celeron, N4000, Intel, HD, G...  \n",
       "1  (Lenovo, 14.0, Intel, Core, i5, -, 8250U, Inte...  \n",
       "2  (Huawei, 14.0, Intel, Core, i5, -, 8250U, NVID...  \n",
       "3  (Dell, 15.6, Intel, Core, i3, -, 7020U, Intel,...  \n",
       "4  (Asus, 15.6, Intel, Core, i7, -, 8550U, NVIDIA...  "
      ]
     },
     "execution_count": 19,
     "metadata": {},
     "output_type": "execute_result"
    }
   ],
   "source": [
    "df.head()"
   ]
  },
  {
   "cell_type": "code",
   "execution_count": 20,
   "metadata": {},
   "outputs": [
    {
     "data": {
      "text/html": [
       "<div>\n",
       "<style scoped>\n",
       "    .dataframe tbody tr th:only-of-type {\n",
       "        vertical-align: middle;\n",
       "    }\n",
       "\n",
       "    .dataframe tbody tr th {\n",
       "        vertical-align: top;\n",
       "    }\n",
       "\n",
       "    .dataframe thead th {\n",
       "        text-align: right;\n",
       "    }\n",
       "</style>\n",
       "<table border=\"1\" class=\"dataframe\">\n",
       "  <thead>\n",
       "    <tr style=\"text-align: right;\">\n",
       "      <th></th>\n",
       "      <th>brand</th>\n",
       "      <th>laptop_name</th>\n",
       "      <th>display_size</th>\n",
       "      <th>processor_type</th>\n",
       "      <th>graphics_card</th>\n",
       "      <th>disk_space</th>\n",
       "      <th>discount_price</th>\n",
       "      <th>old_price</th>\n",
       "      <th>ratings_5max</th>\n",
       "    </tr>\n",
       "  </thead>\n",
       "  <tbody>\n",
       "    <tr>\n",
       "      <th>200</th>\n",
       "      <td>Lenovo</td>\n",
       "      <td>IdeaPad 320-15IKBRN</td>\n",
       "      <td>15.6</td>\n",
       "      <td>Intel Core i5-8250U</td>\n",
       "      <td>Intel GMA HD</td>\n",
       "      <td>1 TB HDD</td>\n",
       "      <td>2099.0</td>\n",
       "      <td>2099.0</td>\n",
       "      <td>3.8 / 5</td>\n",
       "    </tr>\n",
       "    <tr>\n",
       "      <th>121</th>\n",
       "      <td>Dell</td>\n",
       "      <td>XPS 13 9360</td>\n",
       "      <td>13.3</td>\n",
       "      <td>Intel Core i5-8250U</td>\n",
       "      <td>Intel GMA HD</td>\n",
       "      <td>256 GB PCIe NVMe M.2 SSD</td>\n",
       "      <td>4899.0</td>\n",
       "      <td>4899.0</td>\n",
       "      <td>4.3 / 5</td>\n",
       "    </tr>\n",
       "    <tr>\n",
       "      <th>82</th>\n",
       "      <td>Asus</td>\n",
       "      <td>X543UB</td>\n",
       "      <td>15.6</td>\n",
       "      <td>Intel Core i5-8250U</td>\n",
       "      <td>Intel UHD Graphics 620</td>\n",
       "      <td>1 TB HDD</td>\n",
       "      <td>1799.0</td>\n",
       "      <td>1949.0</td>\n",
       "      <td>0 / 5</td>\n",
       "    </tr>\n",
       "    <tr>\n",
       "      <th>11</th>\n",
       "      <td>Acer</td>\n",
       "      <td>Swift 5</td>\n",
       "      <td>14.0</td>\n",
       "      <td>Intel Core i7-8565U</td>\n",
       "      <td>Intel GMA HD</td>\n",
       "      <td>512 GB SSD</td>\n",
       "      <td>4499.0</td>\n",
       "      <td>5999.0</td>\n",
       "      <td>0 / 5</td>\n",
       "    </tr>\n",
       "    <tr>\n",
       "      <th>193</th>\n",
       "      <td>HP</td>\n",
       "      <td>ENVY 13-ab000nx</td>\n",
       "      <td>13.3</td>\n",
       "      <td>Intel Core i5-7200U</td>\n",
       "      <td>Intel GMA HD</td>\n",
       "      <td>256 GB PCIe NVMe M.2 SSD</td>\n",
       "      <td>3779.0</td>\n",
       "      <td>3779.0</td>\n",
       "      <td>0 / 5</td>\n",
       "    </tr>\n",
       "  </tbody>\n",
       "</table>\n",
       "</div>"
      ],
      "text/plain": [
       "      brand          laptop_name  display_size        processor_type  \\\n",
       "200  Lenovo  IdeaPad 320-15IKBRN          15.6   Intel Core i5-8250U   \n",
       "121    Dell          XPS 13 9360          13.3   Intel Core i5-8250U   \n",
       "82     Asus               X543UB          15.6   Intel Core i5-8250U   \n",
       "11     Acer              Swift 5          14.0   Intel Core i7-8565U   \n",
       "193      HP      ENVY 13-ab000nx          13.3   Intel Core i5-7200U   \n",
       "\n",
       "               graphics_card                 disk_space  discount_price  \\\n",
       "200             Intel GMA HD                   1 TB HDD          2099.0   \n",
       "121             Intel GMA HD   256 GB PCIe NVMe M.2 SSD          4899.0   \n",
       "82    Intel UHD Graphics 620                   1 TB HDD          1799.0   \n",
       "11              Intel GMA HD                 512 GB SSD          4499.0   \n",
       "193             Intel GMA HD   256 GB PCIe NVMe M.2 SSD          3779.0   \n",
       "\n",
       "     old_price ratings_5max  \n",
       "200     2099.0      3.8 / 5  \n",
       "121     4899.0      4.3 / 5  \n",
       "82      1949.0        0 / 5  \n",
       "11      5999.0        0 / 5  \n",
       "193     3779.0        0 / 5  "
      ]
     },
     "metadata": {},
     "output_type": "display_data"
    }
   ],
   "source": [
    "query_sentence = 'Intel i5'\n",
    "\n",
    "# Retrieve the embedded vectors as a matrix \n",
    "embed_mat = df['spacy_sentence'].values\n",
    "\n",
    "# Predict\n",
    "best_index = predict_spacy(nlp, query_sentence, embed_mat, 5)\n",
    "\n",
    "display(laptops.iloc[best_index])"
   ]
  },
  {
   "cell_type": "code",
   "execution_count": null,
   "metadata": {},
   "outputs": [],
   "source": []
  },
  {
   "cell_type": "code",
   "execution_count": null,
   "metadata": {},
   "outputs": [],
   "source": []
  },
  {
   "cell_type": "code",
   "execution_count": null,
   "metadata": {},
   "outputs": [],
   "source": []
  }
 ],
 "metadata": {
  "interpreter": {
   "hash": "07efdcd4b820c98a756949507a4d29d7862823915ec7477944641bea022f4f62"
  },
  "kernelspec": {
   "display_name": "Python 3 (ipykernel)",
   "language": "python",
   "name": "python3"
  },
  "language_info": {
   "codemirror_mode": {
    "name": "ipython",
    "version": 3
   },
   "file_extension": ".py",
   "mimetype": "text/x-python",
   "name": "python",
   "nbconvert_exporter": "python",
   "pygments_lexer": "ipython3",
   "version": "3.8.12"
  }
 },
 "nbformat": 4,
 "nbformat_minor": 4
}
